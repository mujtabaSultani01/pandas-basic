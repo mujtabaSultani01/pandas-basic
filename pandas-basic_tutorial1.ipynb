{
 "cells": [
  {
   "cell_type": "markdown",
   "id": "8b9ba7c6",
   "metadata": {},
   "source": [
    "## Pandas-basic\n",
    "Pandas is one of the most popular Python libraries for Data Science and Analytics. I like to say it’s the “SQL of Python.” Why? Because pandas helps you to manage two-dimensional data tables in Python. Of course, it has many more features. (E.g. lot of the popular machine learning libraries in Python are built on the top of pandas.)\n",
    " \n",
    " => Tomi Mester\n",
    "\n",
    "**Note:** *This is a hands-on tutorial, so I recommend doing the coding part with me!*"
   ]
  },
  {
   "cell_type": "code",
   "execution_count": 3,
   "id": "1f42df37",
   "metadata": {
    "scrolled": false
   },
   "outputs": [
    {
     "data": {
      "text/html": [
       "<iframe width=\"560\" height=\"315\" src=\"https://www.youtube.com/embed/dcqPhpY7tWk\" title=\"YouTube video player\" frameborder=\"0\" allow=\"accelerometer; autoplay; clipboard-write; encrypted-media; gyroscope; picture-in-picture; web-share\" allowfullscreen></iframe>\n"
      ],
      "text/plain": [
       "<IPython.core.display.HTML object>"
      ]
     },
     "metadata": {},
     "output_type": "display_data"
    }
   ],
   "source": [
    "%%HTML\n",
    "<iframe width=\"560\" height=\"315\" src=\"https://www.youtube.com/embed/dcqPhpY7tWk\" title=\"YouTube video player\" frameborder=\"0\" allow=\"accelerometer; autoplay; clipboard-write; encrypted-media; gyroscope; picture-in-picture; web-share\" allowfullscreen></iframe>"
   ]
  },
  {
   "cell_type": "markdown",
   "id": "716cdc53",
   "metadata": {},
   "source": [
    "### Pandas installation\n",
    "**Pandas** comes with **Anaconda distribution**, os once you installed Anaconda, you will get Pandas for free. the 2nd way of installing Pandas is **'pip'**=> \"*pip install pandas*\" command will install pandas for you and you'll get pandas module. "
   ]
  },
  {
   "cell_type": "code",
   "execution_count": 4,
   "id": "9c55426b",
   "metadata": {},
   "outputs": [],
   "source": [
    "# To check whether Pandas is successfully installed or not(if it doesn't give the error, it means it's installed...):\n",
    "import pandas as pd"
   ]
  },
  {
   "cell_type": "markdown",
   "id": "4b7355bd",
   "metadata": {},
   "source": [
    "#### Data Frame (df) basics in pandas:\n",
    "Data frame is a main object in pandas. it is used to represent data with rows and columns (Tabular or excell spread sheet like data). Tabular is a collection of rows and columns & we use it in pandas to represent data in tabular form."
   ]
  },
  {
   "cell_type": "code",
   "execution_count": null,
   "id": "106e04e2",
   "metadata": {},
   "outputs": [],
   "source": []
  }
 ],
 "metadata": {
  "kernelspec": {
   "display_name": "Python 3 (ipykernel)",
   "language": "python",
   "name": "python3"
  },
  "language_info": {
   "codemirror_mode": {
    "name": "ipython",
    "version": 3
   },
   "file_extension": ".py",
   "mimetype": "text/x-python",
   "name": "python",
   "nbconvert_exporter": "python",
   "pygments_lexer": "ipython3",
   "version": "3.9.12"
  }
 },
 "nbformat": 4,
 "nbformat_minor": 5
}
